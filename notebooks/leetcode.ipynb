{
 "cells": [
  {
   "cell_type": "markdown",
   "id": "1a2ad9c2-6692-4eab-9eaa-c1eedb3b9c7e",
   "metadata": {},
   "source": [
    "## 1 twosum"
   ]
  },
  {
   "cell_type": "code",
   "execution_count": 41,
   "id": "c7da66b3-18cc-4387-93f6-fa30756f747b",
   "metadata": {},
   "outputs": [],
   "source": [
    "nums = [3,2,4]\n",
    "target =6\n"
   ]
  },
  {
   "cell_type": "code",
   "execution_count": 42,
   "id": "a340c1f2-f400-4bae-9ad3-3d09874ff1d8",
   "metadata": {},
   "outputs": [],
   "source": [
    "import numpy as np"
   ]
  },
  {
   "cell_type": "code",
   "execution_count": 43,
   "id": "0ab8d084-a501-42fc-9d19-8faf570411c1",
   "metadata": {},
   "outputs": [
    {
     "data": {
      "text/plain": [
       "[1, 2]"
      ]
     },
     "execution_count": 43,
     "metadata": {},
     "output_type": "execute_result"
    }
   ],
   "source": [
    "def twoSum(nums, target: int):\n",
    "    arr = np.array(nums)\n",
    "    mat = arr[:, np.newaxis] + arr # meshgrid 也可以\n",
    "    mask = ~np.eye(mat.shape[0], dtype=bool) # 创建对角mask\n",
    "    indexs = np.argwhere((mat == target)&mask) # \n",
    "    return indexs[0].tolist()\n",
    "\n",
    "twoSum(nums,target)"
   ]
  },
  {
   "cell_type": "markdown",
   "id": "cb2cf194-89aa-445a-ae67-a55690ac640e",
   "metadata": {},
   "source": [
    "- 内存超限\n",
    "- numpy太占内存\n",
    "    -  对于这种问题numpy\n",
    "    -  时间复杂度: O(n²)\n",
    "    -  空间复杂度: O(n²)"
   ]
  },
  {
   "cell_type": "code",
   "execution_count": 44,
   "id": "76d24e7f-a7af-4a89-8c3d-7afd787bf4c3",
   "metadata": {},
   "outputs": [],
   "source": [
    "def twoSum_hash(nums, target):\n",
    "    \"\"\"\n",
    "    使用哈希表的方法（最优解）\n",
    "    \"\"\"\n",
    "    numToIndex = {}     \n",
    "    for i in range(len(nums)):\n",
    "        if target - nums[i] in numToIndex:\n",
    "            return [numToIndex[target - nums[i]], i]\n",
    "        numToIndex[nums[i]] = i\n",
    "    return []"
   ]
  },
  {
   "cell_type": "markdown",
   "id": "d2e0e084-0ea9-4657-bd8a-d01ef4985326",
   "metadata": {},
   "source": [
    "- 100%"
   ]
  },
  {
   "cell_type": "markdown",
   "id": "cdf272dc-cf01-4e36-b3f7-3594a83a3825",
   "metadata": {},
   "source": [
    "# 35 search insert position "
   ]
  },
  {
   "cell_type": "markdown",
   "id": "33b338e6-29cf-4fd0-8610-662ca1bc3700",
   "metadata": {},
   "source": [
    "- O(log n)"
   ]
  },
  {
   "cell_type": "code",
   "execution_count": 47,
   "id": "bf94d70a-7290-43bc-a41f-981a95c91246",
   "metadata": {},
   "outputs": [],
   "source": [
    "nums = [1,3,5,6]\n",
    "target = 2"
   ]
  },
  {
   "cell_type": "code",
   "execution_count": 50,
   "id": "f0cd25e2-6aff-4ec0-b697-d3223d1797f8",
   "metadata": {},
   "outputs": [],
   "source": [
    "from typing import List"
   ]
  },
  {
   "cell_type": "code",
   "execution_count": 51,
   "id": "d8bfc895-f969-4e9e-a2f0-ffd6de3bd73d",
   "metadata": {},
   "outputs": [],
   "source": [
    "class Solution:\n",
    "    def searchInsert(self, nums: List[int], target: int) -> int:\n",
    "        nums.append(np.inf)\n",
    "        for i in range(len(nums)):\n",
    "            if target > nums[i]:\n",
    "                continue\n",
    "            else:\n",
    "                return i"
   ]
  },
  {
   "cell_type": "markdown",
   "id": "e3c98205-7dc0-440e-a37a-d694cee9da9a",
   "metadata": {},
   "source": [
    "时间复杂度：O(n)\n",
    "\n",
    "使用了一个单层循环遍历数组\n",
    "最坏情况下需要遍历整个数组（当target大于数组中所有原始元素时）\n",
    "最好情况是O(1)，即target小于第一个元素时\n",
    "\n",
    "空间复杂度：O(1)\n",
    "\n",
    "虽然修改了输入数组（添加了一个元素）\n",
    "只使用了一个循环变量i\n",
    "没有使用其他额外空间"
   ]
  },
  {
   "cell_type": "markdown",
   "id": "46b5ad94-630b-4c0c-aa15-312b30121a3c",
   "metadata": {},
   "source": [
    "改进 二分查找\n",
    "前提条件：\n",
    "\n",
    "数组必须是有序的\n",
    "通常是升序排列\n",
    "\n",
    "主要步骤：\n",
    "\n",
    "确定查找范围的中间位置\n",
    "将目标值与中间值比较\n",
    "缩小查找范围（左半部分或右半部分）\n",
    "重复上述步骤直到找到目标值或确定插入位置\n",
    "\n",
    "时间复杂度分析：\n",
    "\n",
    "O(log n)，因为每次比较都会将查找范围缩小一半\n",
    "比线性查找O(n)快得多"
   ]
  },
  {
   "cell_type": "code",
   "execution_count": 57,
   "id": "c329d826-b5f0-4a93-b655-93ff3d3ebb16",
   "metadata": {},
   "outputs": [],
   "source": [
    "def binary_search_variants(nums, target):\n",
    "    left, right = 0, len(nums) - 1\n",
    "    \n",
    "    # 处理边界情况\n",
    "    if target < nums[0]:\n",
    "        return 0\n",
    "    if target > nums[-1]:\n",
    "        return len(nums)\n",
    "        \n",
    "    while left <= right:\n",
    "        mid = (left + right) // 2 # (left + right) >> 1  二进制向右移动一位更快\n",
    "        if nums[mid] == target:\n",
    "            return mid\n",
    "        elif nums[mid] < target:\n",
    "            left = mid + 1\n",
    "        else:\n",
    "            right = mid - 1\n",
    "            \n",
    "    return left  # 返回应插入的位置"
   ]
  },
  {
   "cell_type": "code",
   "execution_count": 58,
   "id": "dce2cc05-2a3f-4ab9-b685-127a00a25a36",
   "metadata": {},
   "outputs": [
    {
     "data": {
      "text/plain": [
       "1"
      ]
     },
     "execution_count": 58,
     "metadata": {},
     "output_type": "execute_result"
    }
   ],
   "source": [
    "Solution().searchInsert(nums = nums,target = target)"
   ]
  },
  {
   "cell_type": "code",
   "execution_count": 59,
   "id": "b107099c-5a12-472d-8105-192cbf3e0e97",
   "metadata": {},
   "outputs": [],
   "source": [
    "def binary_search_variants(nums, target):\n",
    "    nums.append(target)\n",
    "    return sorted(nums).index(target)"
   ]
  },
  {
   "cell_type": "markdown",
   "id": "d1b2aa7d-1893-42a8-bf86-d00441427389",
   "metadata": {},
   "source": [
    "- sorted方法的复杂度是nlogn不够好"
   ]
  },
  {
   "cell_type": "code",
   "execution_count": null,
   "id": "a61f8459-190b-4a52-825c-784d81aa5b9c",
   "metadata": {},
   "outputs": [],
   "source": [
    "## "
   ]
  },
  {
   "cell_type": "code",
   "execution_count": null,
   "id": "c6e4d2d8-1f99-49cd-be0a-67e780cec78f",
   "metadata": {},
   "outputs": [],
   "source": [
    "[5,6,4] [2,4,3]"
   ]
  },
  {
   "cell_type": "code",
   "execution_count": 88,
   "id": "294175be-5765-4462-84e8-64b8cced45d9",
   "metadata": {},
   "outputs": [],
   "source": [
    "l1 = ListNode(2)\n",
    "l1.next = ListNode(4)\n",
    "l1.next = ListNode(3)\n",
    "l2 = ListNode(5)\n",
    "l2.next = ListNode(6)\n",
    "l2.next = ListNode(4)"
   ]
  },
  {
   "cell_type": "code",
   "execution_count": 70,
   "id": "86bdf94f-5d5a-4060-bb87-6de468b2b68e",
   "metadata": {},
   "outputs": [],
   "source": [
    "class ListNode:\n",
    "    def __init__(self, val=0, next=None):\n",
    "        self.val = val\n",
    "        self.next = next"
   ]
  },
  {
   "cell_type": "code",
   "execution_count": 94,
   "id": "3b7d237b-1cd2-45a0-a52d-71b1cc52a0d3",
   "metadata": {},
   "outputs": [],
   "source": [
    "curr = l1.val + l2.val\n",
    "l3 = ListNode(curr % 10)\n",
    "curr //= 10"
   ]
  },
  {
   "cell_type": "code",
   "execution_count": 97,
   "id": "c9e02e8d-2cec-4e51-b19e-0cc5d1babe2e",
   "metadata": {},
   "outputs": [],
   "source": [
    "class Solution:\n",
    "    def addTwoNumbers(self, l1: ListNode, l2: ListNode):\n",
    "        curr = l1.val + l2.val\n",
    "        l3 = ListNode(curr % 10)\n",
    "        curr //= 10\n",
    "        while l1.next or l2.next or curr>0:\n",
    "            print(l1.val, curr, l2.val)\n",
    "            l1 = l1.next\n",
    "            l2 = l2.next\n",
    "            if l1 is None:\n",
    "                curr += l2.val\n",
    "            if l2 is None:\n",
    "                curr += l1.val\n",
    "            curr += l1.val + l2.val\n",
    "            l3.next = ListNode(curr%10)\n",
    "            \n",
    "            curr = curr//10\n",
    "        return l3"
   ]
  },
  {
   "cell_type": "code",
   "execution_count": 98,
   "id": "d6e30959-f694-4519-a0c7-a88feebb6969",
   "metadata": {},
   "outputs": [
    {
     "name": "stdout",
     "output_type": "stream",
     "text": [
      "2 0 5\n"
     ]
    },
    {
     "data": {
      "text/plain": [
       "7"
      ]
     },
     "execution_count": 98,
     "metadata": {},
     "output_type": "execute_result"
    }
   ],
   "source": [
    "Solution().addTwoNumbers(l1,l2).val"
   ]
  },
  {
   "cell_type": "code",
   "execution_count": null,
   "id": "6b321361-5356-42d6-9c3a-edf6f6e5726b",
   "metadata": {},
   "outputs": [],
   "source": []
  }
 ],
 "metadata": {
  "kernelspec": {
   "display_name": "Python (base)",
   "language": "python",
   "name": "base"
  },
  "language_info": {
   "codemirror_mode": {
    "name": "ipython",
    "version": 3
   },
   "file_extension": ".py",
   "mimetype": "text/x-python",
   "name": "python",
   "nbconvert_exporter": "python",
   "pygments_lexer": "ipython3",
   "version": "3.11.9"
  }
 },
 "nbformat": 4,
 "nbformat_minor": 5
}
